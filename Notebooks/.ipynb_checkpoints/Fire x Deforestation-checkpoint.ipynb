{
 "cells": [
  {
   "cell_type": "code",
   "execution_count": 8,
   "metadata": {},
   "outputs": [],
   "source": [
    "# Dependencies and Setup\n",
    "import matplotlib.pyplot as plt\n",
    "import pandas as pd\n",
    "import numpy as np\n",
    "import requests\n",
    "import time\n",
    "import pprint\n",
    "import csv\n",
    "import random\n",
    "import seaborn as sns\n",
    "import statsmodels.api as sm\n",
    "from statsmodels.sandbox.regression.predstd import wls_prediction_std\n",
    "from sklearn.linear_model import LinearRegression"
   ]
  },
  {
   "cell_type": "code",
   "execution_count": 41,
   "metadata": {},
   "outputs": [],
   "source": [
    "fire_state = \"../output_data/Amazon_mean_df.csv\"\n",
    "defo_state = \"../output_data/deforestation_mean_merge.csv\"\n",
    "\n",
    "fire_mean_df = pd.read_csv(fire_state)\n",
    "defo_mean_df = pd.read_csv(defo_state)"
   ]
  },
  {
   "cell_type": "code",
   "execution_count": 42,
   "metadata": {},
   "outputs": [
    {
     "data": {
      "text/html": [
       "<div>\n",
       "<style scoped>\n",
       "    .dataframe tbody tr th:only-of-type {\n",
       "        vertical-align: middle;\n",
       "    }\n",
       "\n",
       "    .dataframe tbody tr th {\n",
       "        vertical-align: top;\n",
       "    }\n",
       "\n",
       "    .dataframe thead th {\n",
       "        text-align: right;\n",
       "    }\n",
       "</style>\n",
       "<table border=\"1\" class=\"dataframe\">\n",
       "  <thead>\n",
       "    <tr style=\"text-align: right;\">\n",
       "      <th></th>\n",
       "      <th>State</th>\n",
       "      <th>Number of Fires</th>\n",
       "    </tr>\n",
       "  </thead>\n",
       "  <tbody>\n",
       "    <tr>\n",
       "      <td>0</td>\n",
       "      <td>AC</td>\n",
       "      <td>3417.25</td>\n",
       "    </tr>\n",
       "    <tr>\n",
       "      <td>1</td>\n",
       "      <td>AM</td>\n",
       "      <td>5873.35</td>\n",
       "    </tr>\n",
       "    <tr>\n",
       "      <td>2</td>\n",
       "      <td>AP</td>\n",
       "      <td>1255.80</td>\n",
       "    </tr>\n",
       "    <tr>\n",
       "      <td>3</td>\n",
       "      <td>MA</td>\n",
       "      <td>18763.95</td>\n",
       "    </tr>\n",
       "    <tr>\n",
       "      <td>4</td>\n",
       "      <td>MT</td>\n",
       "      <td>32729.50</td>\n",
       "    </tr>\n",
       "    <tr>\n",
       "      <td>5</td>\n",
       "      <td>PA</td>\n",
       "      <td>28892.05</td>\n",
       "    </tr>\n",
       "    <tr>\n",
       "      <td>6</td>\n",
       "      <td>RO</td>\n",
       "      <td>9269.35</td>\n",
       "    </tr>\n",
       "    <tr>\n",
       "      <td>7</td>\n",
       "      <td>RR</td>\n",
       "      <td>1472.70</td>\n",
       "    </tr>\n",
       "    <tr>\n",
       "      <td>8</td>\n",
       "      <td>TO</td>\n",
       "      <td>10621.60</td>\n",
       "    </tr>\n",
       "  </tbody>\n",
       "</table>\n",
       "</div>"
      ],
      "text/plain": [
       "  State  Number of Fires\n",
       "0    AC          3417.25\n",
       "1    AM          5873.35\n",
       "2    AP          1255.80\n",
       "3    MA         18763.95\n",
       "4    MT         32729.50\n",
       "5    PA         28892.05\n",
       "6    RO          9269.35\n",
       "7    RR          1472.70\n",
       "8    TO         10621.60"
      ]
     },
     "execution_count": 42,
     "metadata": {},
     "output_type": "execute_result"
    }
   ],
   "source": [
    "fire_mean_df"
   ]
  },
  {
   "cell_type": "code",
   "execution_count": 43,
   "metadata": {},
   "outputs": [
    {
     "data": {
      "text/html": [
       "<div>\n",
       "<style scoped>\n",
       "    .dataframe tbody tr th:only-of-type {\n",
       "        vertical-align: middle;\n",
       "    }\n",
       "\n",
       "    .dataframe tbody tr th {\n",
       "        vertical-align: top;\n",
       "    }\n",
       "\n",
       "    .dataframe thead th {\n",
       "        text-align: right;\n",
       "    }\n",
       "</style>\n",
       "<table border=\"1\" class=\"dataframe\">\n",
       "  <thead>\n",
       "    <tr style=\"text-align: right;\">\n",
       "      <th></th>\n",
       "      <th>state</th>\n",
       "      <th>square km</th>\n",
       "    </tr>\n",
       "  </thead>\n",
       "  <tbody>\n",
       "    <tr>\n",
       "      <td>0</td>\n",
       "      <td>AC</td>\n",
       "      <td>424.70</td>\n",
       "    </tr>\n",
       "    <tr>\n",
       "      <td>1</td>\n",
       "      <td>AM</td>\n",
       "      <td>751.90</td>\n",
       "    </tr>\n",
       "    <tr>\n",
       "      <td>2</td>\n",
       "      <td>AP</td>\n",
       "      <td>32.30</td>\n",
       "    </tr>\n",
       "    <tr>\n",
       "      <td>3</td>\n",
       "      <td>MA</td>\n",
       "      <td>709.65</td>\n",
       "    </tr>\n",
       "    <tr>\n",
       "      <td>4</td>\n",
       "      <td>MT</td>\n",
       "      <td>4284.40</td>\n",
       "    </tr>\n",
       "    <tr>\n",
       "      <td>5</td>\n",
       "      <td>PA</td>\n",
       "      <td>4683.75</td>\n",
       "    </tr>\n",
       "    <tr>\n",
       "      <td>6</td>\n",
       "      <td>RO</td>\n",
       "      <td>1797.55</td>\n",
       "    </tr>\n",
       "    <tr>\n",
       "      <td>7</td>\n",
       "      <td>RR</td>\n",
       "      <td>232.15</td>\n",
       "    </tr>\n",
       "    <tr>\n",
       "      <td>8</td>\n",
       "      <td>TO</td>\n",
       "      <td>139.40</td>\n",
       "    </tr>\n",
       "  </tbody>\n",
       "</table>\n",
       "</div>"
      ],
      "text/plain": [
       "  state  square km\n",
       "0    AC     424.70\n",
       "1    AM     751.90\n",
       "2    AP      32.30\n",
       "3    MA     709.65\n",
       "4    MT    4284.40\n",
       "5    PA    4683.75\n",
       "6    RO    1797.55\n",
       "7    RR     232.15\n",
       "8    TO     139.40"
      ]
     },
     "execution_count": 43,
     "metadata": {},
     "output_type": "execute_result"
    }
   ],
   "source": [
    "defo_mean_df"
   ]
  },
  {
   "cell_type": "code",
   "execution_count": 47,
   "metadata": {},
   "outputs": [
    {
     "data": {
      "text/html": [
       "<div>\n",
       "<style scoped>\n",
       "    .dataframe tbody tr th:only-of-type {\n",
       "        vertical-align: middle;\n",
       "    }\n",
       "\n",
       "    .dataframe tbody tr th {\n",
       "        vertical-align: top;\n",
       "    }\n",
       "\n",
       "    .dataframe thead th {\n",
       "        text-align: right;\n",
       "    }\n",
       "</style>\n",
       "<table border=\"1\" class=\"dataframe\">\n",
       "  <thead>\n",
       "    <tr style=\"text-align: right;\">\n",
       "      <th></th>\n",
       "      <th>State</th>\n",
       "      <th>Square km</th>\n",
       "    </tr>\n",
       "  </thead>\n",
       "  <tbody>\n",
       "    <tr>\n",
       "      <td>0</td>\n",
       "      <td>AC</td>\n",
       "      <td>424.70</td>\n",
       "    </tr>\n",
       "    <tr>\n",
       "      <td>1</td>\n",
       "      <td>AM</td>\n",
       "      <td>751.90</td>\n",
       "    </tr>\n",
       "    <tr>\n",
       "      <td>2</td>\n",
       "      <td>AP</td>\n",
       "      <td>32.30</td>\n",
       "    </tr>\n",
       "    <tr>\n",
       "      <td>3</td>\n",
       "      <td>MA</td>\n",
       "      <td>709.65</td>\n",
       "    </tr>\n",
       "    <tr>\n",
       "      <td>4</td>\n",
       "      <td>MT</td>\n",
       "      <td>4284.40</td>\n",
       "    </tr>\n",
       "    <tr>\n",
       "      <td>5</td>\n",
       "      <td>PA</td>\n",
       "      <td>4683.75</td>\n",
       "    </tr>\n",
       "    <tr>\n",
       "      <td>6</td>\n",
       "      <td>RO</td>\n",
       "      <td>1797.55</td>\n",
       "    </tr>\n",
       "    <tr>\n",
       "      <td>7</td>\n",
       "      <td>RR</td>\n",
       "      <td>232.15</td>\n",
       "    </tr>\n",
       "    <tr>\n",
       "      <td>8</td>\n",
       "      <td>TO</td>\n",
       "      <td>139.40</td>\n",
       "    </tr>\n",
       "  </tbody>\n",
       "</table>\n",
       "</div>"
      ],
      "text/plain": [
       "  State  Square km\n",
       "0    AC     424.70\n",
       "1    AM     751.90\n",
       "2    AP      32.30\n",
       "3    MA     709.65\n",
       "4    MT    4284.40\n",
       "5    PA    4683.75\n",
       "6    RO    1797.55\n",
       "7    RR     232.15\n",
       "8    TO     139.40"
      ]
     },
     "execution_count": 47,
     "metadata": {},
     "output_type": "execute_result"
    }
   ],
   "source": [
    "new_defo_mean = defo_mean_df.rename(columns={\"state\": \"State\", \"square km\": \"Square km\"})\n",
    "new_defo_mean"
   ]
  },
  {
   "cell_type": "code",
   "execution_count": 51,
   "metadata": {},
   "outputs": [
    {
     "data": {
      "text/html": [
       "<div>\n",
       "<style scoped>\n",
       "    .dataframe tbody tr th:only-of-type {\n",
       "        vertical-align: middle;\n",
       "    }\n",
       "\n",
       "    .dataframe tbody tr th {\n",
       "        vertical-align: top;\n",
       "    }\n",
       "\n",
       "    .dataframe thead th {\n",
       "        text-align: right;\n",
       "    }\n",
       "</style>\n",
       "<table border=\"1\" class=\"dataframe\">\n",
       "  <thead>\n",
       "    <tr style=\"text-align: right;\">\n",
       "      <th></th>\n",
       "      <th>State</th>\n",
       "      <th>Square km</th>\n",
       "      <th>Number of Fires</th>\n",
       "    </tr>\n",
       "  </thead>\n",
       "  <tbody>\n",
       "    <tr>\n",
       "      <td>0</td>\n",
       "      <td>AC</td>\n",
       "      <td>424.70</td>\n",
       "      <td>3417.25</td>\n",
       "    </tr>\n",
       "    <tr>\n",
       "      <td>1</td>\n",
       "      <td>AM</td>\n",
       "      <td>751.90</td>\n",
       "      <td>5873.35</td>\n",
       "    </tr>\n",
       "    <tr>\n",
       "      <td>2</td>\n",
       "      <td>AP</td>\n",
       "      <td>32.30</td>\n",
       "      <td>1255.80</td>\n",
       "    </tr>\n",
       "    <tr>\n",
       "      <td>3</td>\n",
       "      <td>MA</td>\n",
       "      <td>709.65</td>\n",
       "      <td>18763.95</td>\n",
       "    </tr>\n",
       "    <tr>\n",
       "      <td>4</td>\n",
       "      <td>MT</td>\n",
       "      <td>4284.40</td>\n",
       "      <td>32729.50</td>\n",
       "    </tr>\n",
       "    <tr>\n",
       "      <td>5</td>\n",
       "      <td>PA</td>\n",
       "      <td>4683.75</td>\n",
       "      <td>28892.05</td>\n",
       "    </tr>\n",
       "    <tr>\n",
       "      <td>6</td>\n",
       "      <td>RO</td>\n",
       "      <td>1797.55</td>\n",
       "      <td>9269.35</td>\n",
       "    </tr>\n",
       "    <tr>\n",
       "      <td>7</td>\n",
       "      <td>RR</td>\n",
       "      <td>232.15</td>\n",
       "      <td>1472.70</td>\n",
       "    </tr>\n",
       "    <tr>\n",
       "      <td>8</td>\n",
       "      <td>TO</td>\n",
       "      <td>139.40</td>\n",
       "      <td>10621.60</td>\n",
       "    </tr>\n",
       "  </tbody>\n",
       "</table>\n",
       "</div>"
      ],
      "text/plain": [
       "  State  Square km  Number of Fires\n",
       "0    AC     424.70          3417.25\n",
       "1    AM     751.90          5873.35\n",
       "2    AP      32.30          1255.80\n",
       "3    MA     709.65         18763.95\n",
       "4    MT    4284.40         32729.50\n",
       "5    PA    4683.75         28892.05\n",
       "6    RO    1797.55          9269.35\n",
       "7    RR     232.15          1472.70\n",
       "8    TO     139.40         10621.60"
      ]
     },
     "execution_count": 51,
     "metadata": {},
     "output_type": "execute_result"
    }
   ],
   "source": [
    "state_merged_mean = new_defo_mean.merge(fire_mean_df, on='State')\n",
    "state_merged_mean.to_csv(\"../output_data/merged_fire_defo_mean.csv\")\n",
    "state_merged_mean\n"
   ]
  },
  {
   "cell_type": "code",
   "execution_count": 53,
   "metadata": {},
   "outputs": [
    {
     "data": {
      "text/plain": [
       "['AC', 'AM', 'AP', 'MA', 'MT', 'PA', 'RO', 'RR', 'TO']"
      ]
     },
     "execution_count": 53,
     "metadata": {},
     "output_type": "execute_result"
    }
   ],
   "source": [
    "# axis\n",
    "xaxis = list(new_defo_mean.State)\n",
    "xaxis"
   ]
  },
  {
   "cell_type": "code",
   "execution_count": 55,
   "metadata": {},
   "outputs": [
    {
     "data": {
      "image/png": "[encoded data removed]",
      "text/plain": [
       "<Figure size 1440x720 with 2 Axes>"
      ]
     },
     "metadata": {
      "needs_background": "light"
     },
     "output_type": "display_data"
    }
   ],
   "source": [
    "# Create 2 bar graph in the same fig for Deforestation and Fires by state in Legal Amazon.\n",
    "fig, ax1 = plt.subplots(figsize=(20, 10))\n",
    "# Deforestation\n",
    "for index, row in state_merged_mean.iterrows():\n",
    "    def_graph = ax1.bar(state_merged_mean[\"State\"][index], state_merged_mean[\"Number of Fires\"][index],color='red', alpha=.8,\\\n",
    "                        align=\"edge\",width=-0.45)\n",
    "ax1.set_title(\"Number of Fires vs Deforestation in Legal Amazon per State\", fontweight = \"bold\", fontsize = 15)\n",
    "ax1.set_xlabel(\"States\",fontsize = 28)\n",
    "ax1.set_ylabel(\"Number of Fires\",fontsize = 28, color ='r')\n",
    "ax1.tick_params(axis='y',labelcolor='tab:red', labelsize = 20)\n",
    "# Rain\n",
    "ax2 = ax1.twinx()\n",
    "for index, row in state_merged_mean.iterrows():\n",
    "    rain_graph = ax2.bar(state_merged_mean[\"State\"][index], state_merged_mean[\"Square km\"][index],color='green', alpha=.8,\\\n",
    "                        align=\"edge\",width=+0.45)\n",
    "ax2.set_ylabel(\"Area (km²)\",fontsize = 28, color ='g')\n",
    "ax2.tick_params(axis='y',labelcolor='tab:green', labelsize = 20)\n",
    "#other configurations\n",
    "plt.xticks(xaxis, rotation=90)\n",
    "ax1.tick_params(axis='x',labelsize = 20)\n",
    "plt.tight_layout()\n",
    "ax1.grid()\n",
    "#save figure\n",
    "plt.savefig(\"../output_data/images/FireXDefo.png\", dpi=fig.dpi)\n",
    "plt.show()"
   ]
  },
  {
   "cell_type": "code",
   "execution_count": null,
   "metadata": {},
   "outputs": [],
   "source": []
  },
  {
   "cell_type": "code",
   "execution_count": null,
   "metadata": {},
   "outputs": [],
   "source": []
  },
  {
   "cell_type": "code",
   "execution_count": null,
   "metadata": {},
   "outputs": [],
   "source": []
  },
  {
   "cell_type": "code",
   "execution_count": 31,
   "metadata": {},
   "outputs": [],
   "source": [
    "#open files\n",
    "fire_year = \"../output_data/fires_year_sum_df.csv\"\n",
    "defo_year = \"../output_data/defor_year_sum.csv\"\n",
    "\n",
    "fire_year_sum_df = pd.read_csv(fire_year)\n",
    "defo_year_sum_df = pd.read_csv(defo_year)"
   ]
  },
  {
   "cell_type": "code",
   "execution_count": 32,
   "metadata": {},
   "outputs": [
    {
     "data": {
      "text/html": [
       "<div>\n",
       "<style scoped>\n",
       "    .dataframe tbody tr th:only-of-type {\n",
       "        vertical-align: middle;\n",
       "    }\n",
       "\n",
       "    .dataframe tbody tr th {\n",
       "        vertical-align: top;\n",
       "    }\n",
       "\n",
       "    .dataframe thead th {\n",
       "        text-align: right;\n",
       "    }\n",
       "</style>\n",
       "<table border=\"1\" class=\"dataframe\">\n",
       "  <thead>\n",
       "    <tr style=\"text-align: right;\">\n",
       "      <th></th>\n",
       "      <th>year</th>\n",
       "      <th>Number of Fires</th>\n",
       "      <th>square km</th>\n",
       "    </tr>\n",
       "  </thead>\n",
       "  <tbody>\n",
       "    <tr>\n",
       "      <td>0</td>\n",
       "      <td>1998</td>\n",
       "      <td>123881</td>\n",
       "      <td>17383.0</td>\n",
       "    </tr>\n",
       "    <tr>\n",
       "      <td>1</td>\n",
       "      <td>1999</td>\n",
       "      <td>132526</td>\n",
       "      <td>17259.0</td>\n",
       "    </tr>\n",
       "    <tr>\n",
       "      <td>2</td>\n",
       "      <td>2000</td>\n",
       "      <td>97541</td>\n",
       "      <td>18226.0</td>\n",
       "    </tr>\n",
       "    <tr>\n",
       "      <td>3</td>\n",
       "      <td>2001</td>\n",
       "      <td>137926</td>\n",
       "      <td>18165.0</td>\n",
       "    </tr>\n",
       "    <tr>\n",
       "      <td>4</td>\n",
       "      <td>2002</td>\n",
       "      <td>220015</td>\n",
       "      <td>21650.0</td>\n",
       "    </tr>\n",
       "    <tr>\n",
       "      <td>5</td>\n",
       "      <td>2003</td>\n",
       "      <td>208476</td>\n",
       "      <td>25396.0</td>\n",
       "    </tr>\n",
       "    <tr>\n",
       "      <td>6</td>\n",
       "      <td>2004</td>\n",
       "      <td>248928</td>\n",
       "      <td>27772.0</td>\n",
       "    </tr>\n",
       "    <tr>\n",
       "      <td>7</td>\n",
       "      <td>2005</td>\n",
       "      <td>224294</td>\n",
       "      <td>19014.0</td>\n",
       "    </tr>\n",
       "    <tr>\n",
       "      <td>8</td>\n",
       "      <td>2006</td>\n",
       "      <td>123327</td>\n",
       "      <td>14286.0</td>\n",
       "    </tr>\n",
       "    <tr>\n",
       "      <td>9</td>\n",
       "      <td>2007</td>\n",
       "      <td>206412</td>\n",
       "      <td>11651.0</td>\n",
       "    </tr>\n",
       "    <tr>\n",
       "      <td>10</td>\n",
       "      <td>2008</td>\n",
       "      <td>117993</td>\n",
       "      <td>12911.0</td>\n",
       "    </tr>\n",
       "    <tr>\n",
       "      <td>11</td>\n",
       "      <td>2009</td>\n",
       "      <td>111763</td>\n",
       "      <td>7464.0</td>\n",
       "    </tr>\n",
       "    <tr>\n",
       "      <td>12</td>\n",
       "      <td>2010</td>\n",
       "      <td>223228</td>\n",
       "      <td>7000.0</td>\n",
       "    </tr>\n",
       "    <tr>\n",
       "      <td>13</td>\n",
       "      <td>2011</td>\n",
       "      <td>131271</td>\n",
       "      <td>6418.0</td>\n",
       "    </tr>\n",
       "    <tr>\n",
       "      <td>14</td>\n",
       "      <td>2012</td>\n",
       "      <td>163353</td>\n",
       "      <td>4571.0</td>\n",
       "    </tr>\n",
       "    <tr>\n",
       "      <td>15</td>\n",
       "      <td>2013</td>\n",
       "      <td>105572</td>\n",
       "      <td>5891.0</td>\n",
       "    </tr>\n",
       "    <tr>\n",
       "      <td>16</td>\n",
       "      <td>2014</td>\n",
       "      <td>170259</td>\n",
       "      <td>5012.0</td>\n",
       "    </tr>\n",
       "    <tr>\n",
       "      <td>17</td>\n",
       "      <td>2015</td>\n",
       "      <td>209296</td>\n",
       "      <td>6207.0</td>\n",
       "    </tr>\n",
       "    <tr>\n",
       "      <td>18</td>\n",
       "      <td>2016</td>\n",
       "      <td>171132</td>\n",
       "      <td>7893.0</td>\n",
       "    </tr>\n",
       "    <tr>\n",
       "      <td>19</td>\n",
       "      <td>2017</td>\n",
       "      <td>246289</td>\n",
       "      <td>6947.0</td>\n",
       "    </tr>\n",
       "  </tbody>\n",
       "</table>\n",
       "</div>"
      ],
      "text/plain": [
       "    year  Number of Fires  square km\n",
       "0   1998           123881    17383.0\n",
       "1   1999           132526    17259.0\n",
       "2   2000            97541    18226.0\n",
       "3   2001           137926    18165.0\n",
       "4   2002           220015    21650.0\n",
       "5   2003           208476    25396.0\n",
       "6   2004           248928    27772.0\n",
       "7   2005           224294    19014.0\n",
       "8   2006           123327    14286.0\n",
       "9   2007           206412    11651.0\n",
       "10  2008           117993    12911.0\n",
       "11  2009           111763     7464.0\n",
       "12  2010           223228     7000.0\n",
       "13  2011           131271     6418.0\n",
       "14  2012           163353     4571.0\n",
       "15  2013           105572     5891.0\n",
       "16  2014           170259     5012.0\n",
       "17  2015           209296     6207.0\n",
       "18  2016           171132     7893.0\n",
       "19  2017           246289     6947.0"
      ]
     },
     "execution_count": 32,
     "metadata": {},
     "output_type": "execute_result"
    }
   ],
   "source": [
    "#merge Dataframes\n",
    "merded_year_fire_defo = pd.merge(fire_year_sum_df, defo_year_sum_df, on=['year'])\n",
    "merded_year_fire_defo"
   ]
  },
  {
   "cell_type": "code",
   "execution_count": null,
   "metadata": {},
   "outputs": [],
   "source": []
  },
  {
   "cell_type": "code",
   "execution_count": 33,
   "metadata": {},
   "outputs": [],
   "source": [
    "# axis and ticks\n",
    "x_axis_fire_defo = list(merded_year_fire_defo.year)\n",
    "tick_locations = [value for value in x_axis_fire_defo]"
   ]
  },
  {
   "cell_type": "code",
   "execution_count": 34,
   "metadata": {},
   "outputs": [
    {
     "data": {
      "image/png": "[encoded data removed]",
      "text/plain": [
       "<Figure size 1440x720 with 2 Axes>"
      ]
     },
     "metadata": {
      "needs_background": "light"
     },
     "output_type": "display_data"
    }
   ],
   "source": [
    "# Create 2 bar graph in the same fig for Annual Deforestation and rain in Legal Amazon.\n",
    "fig, ax1 = plt.subplots(figsize=(20, 10))\n",
    "\n",
    "# Deforestation\n",
    "for index, row in merded_year_fire_defo.iterrows():\n",
    "    def_graph = ax1.bar(merded_year_fire_defo[\"year\"][index], merded_year_fire_defo[\"square km\"][index],  color='g', alpha=.8,\\\n",
    "                        align=\"edge\",width=-0.45)\n",
    "ax1.set_title(\"Annual Deforestation and Fires in Legal Amazon\", fontweight = \"bold\", fontsize = 30)\n",
    "ax1.set_xlabel(\"Year\",fontsize = 28)\n",
    "ax1.set_ylabel(\"Deforestation Area (km²)\",fontsize = 28, color ='g')\n",
    "ax1.tick_params(axis='y',labelcolor='tab:green', labelsize = 18)\n",
    "\n",
    "# Rain\n",
    "ax2 = ax1.twinx()\n",
    "for index, row in merded_year_fire_defo.iterrows():\n",
    "    rain_graph = ax2.bar(merded_year_fire_defo[\"year\"][index], merded_year_fire_defo[\"Number of Fires\"][index],  color='r', alpha=.8,\\\n",
    "                         align=\"edge\", width=0.45)\n",
    "ax2.set_ylabel(\"Number of Fires\",fontsize = 28, color ='r')\n",
    "ax2.tick_params(axis='y',labelcolor='tab:red', labelsize = 18)\n",
    "\n",
    "#other configurations\n",
    "plt.xticks(tick_locations, x_axis_fire_defo, rotation=90)\n",
    "ax1.tick_params(axis='x',labelsize = 15)\n",
    "plt.tight_layout()\n",
    "ax1.grid()\n",
    "\n",
    "#save figure\n",
    "plt.savefig(\"../output_data/images/defor_fire_year.png\", dpi=fig.dpi)\n",
    "plt.show()"
   ]
  },
  {
   "cell_type": "code",
   "execution_count": 35,
   "metadata": {},
   "outputs": [
    {
     "ename": "NameError",
     "evalue": "name 'merged' is not defined",
     "output_type": "error",
     "traceback": [
      "\u001b[1;31m---------------------------------------------------------------------------\u001b[0m",
      "\u001b[1;31mNameError\u001b[0m                                 Traceback (most recent call last)",
      "\u001b[1;32m<ipython-input-35-a2c3934d2c59>\u001b[0m in \u001b[0;36m<module>\u001b[1;34m\u001b[0m\n\u001b[1;32m----> 1\u001b[1;33m \u001b[0mmerged\u001b[0m\u001b[1;33m\u001b[0m\u001b[1;33m\u001b[0m\u001b[0m\n\u001b[0m",
      "\u001b[1;31mNameError\u001b[0m: name 'merged' is not defined"
     ]
    }
   ],
   "source": [
    "merged"
   ]
  },
  {
   "cell_type": "code",
   "execution_count": 36,
   "metadata": {},
   "outputs": [
    {
     "ename": "KeyError",
     "evalue": "'States'",
     "output_type": "error",
     "traceback": [
      "\u001b[1;31m---------------------------------------------------------------------------\u001b[0m",
      "\u001b[1;31mKeyError\u001b[0m                                  Traceback (most recent call last)",
      "\u001b[1;32m<ipython-input-36-39d699fd7123>\u001b[0m in \u001b[0;36m<module>\u001b[1;34m\u001b[0m\n\u001b[1;32m----> 1\u001b[1;33m \u001b[0mmerded_state_fire_defo\u001b[0m \u001b[1;33m=\u001b[0m \u001b[0mpd\u001b[0m\u001b[1;33m.\u001b[0m\u001b[0mmerge\u001b[0m\u001b[1;33m(\u001b[0m\u001b[0mfire_year_sum_df\u001b[0m\u001b[1;33m,\u001b[0m \u001b[0mdefo_year_sum_df\u001b[0m\u001b[1;33m,\u001b[0m \u001b[0mon\u001b[0m\u001b[1;33m=\u001b[0m\u001b[1;33m[\u001b[0m\u001b[1;34m'States'\u001b[0m\u001b[1;33m]\u001b[0m\u001b[1;33m)\u001b[0m\u001b[1;33m\u001b[0m\u001b[1;33m\u001b[0m\u001b[0m\n\u001b[0m\u001b[0;32m      2\u001b[0m \u001b[0mmerded_state_fire_defo\u001b[0m\u001b[1;33m\u001b[0m\u001b[1;33m\u001b[0m\u001b[0m\n",
      "\u001b[1;32m~\\Anaconda3\\lib\\site-packages\\pandas\\core\\reshape\\merge.py\u001b[0m in \u001b[0;36mmerge\u001b[1;34m(left, right, how, on, left_on, right_on, left_index, right_index, sort, suffixes, copy, indicator, validate)\u001b[0m\n\u001b[0;32m     79\u001b[0m         \u001b[0mcopy\u001b[0m\u001b[1;33m=\u001b[0m\u001b[0mcopy\u001b[0m\u001b[1;33m,\u001b[0m\u001b[1;33m\u001b[0m\u001b[1;33m\u001b[0m\u001b[0m\n\u001b[0;32m     80\u001b[0m         \u001b[0mindicator\u001b[0m\u001b[1;33m=\u001b[0m\u001b[0mindicator\u001b[0m\u001b[1;33m,\u001b[0m\u001b[1;33m\u001b[0m\u001b[1;33m\u001b[0m\u001b[0m\n\u001b[1;32m---> 81\u001b[1;33m         \u001b[0mvalidate\u001b[0m\u001b[1;33m=\u001b[0m\u001b[0mvalidate\u001b[0m\u001b[1;33m,\u001b[0m\u001b[1;33m\u001b[0m\u001b[1;33m\u001b[0m\u001b[0m\n\u001b[0m\u001b[0;32m     82\u001b[0m     )\n\u001b[0;32m     83\u001b[0m     \u001b[1;32mreturn\u001b[0m \u001b[0mop\u001b[0m\u001b[1;33m.\u001b[0m\u001b[0mget_result\u001b[0m\u001b[1;33m(\u001b[0m\u001b[1;33m)\u001b[0m\u001b[1;33m\u001b[0m\u001b[1;33m\u001b[0m\u001b[0m\n",
      "\u001b[1;32m~\\Anaconda3\\lib\\site-packages\\pandas\\core\\reshape\\merge.py\u001b[0m in \u001b[0;36m__init__\u001b[1;34m(self, left, right, how, on, left_on, right_on, axis, left_index, right_index, sort, suffixes, copy, indicator, validate)\u001b[0m\n\u001b[0;32m    624\u001b[0m             \u001b[0mself\u001b[0m\u001b[1;33m.\u001b[0m\u001b[0mright_join_keys\u001b[0m\u001b[1;33m,\u001b[0m\u001b[1;33m\u001b[0m\u001b[1;33m\u001b[0m\u001b[0m\n\u001b[0;32m    625\u001b[0m             \u001b[0mself\u001b[0m\u001b[1;33m.\u001b[0m\u001b[0mjoin_names\u001b[0m\u001b[1;33m,\u001b[0m\u001b[1;33m\u001b[0m\u001b[1;33m\u001b[0m\u001b[0m\n\u001b[1;32m--> 626\u001b[1;33m         ) = self._get_merge_keys()\n\u001b[0m\u001b[0;32m    627\u001b[0m \u001b[1;33m\u001b[0m\u001b[0m\n\u001b[0;32m    628\u001b[0m         \u001b[1;31m# validate the merge keys dtypes. We may need to coerce\u001b[0m\u001b[1;33m\u001b[0m\u001b[1;33m\u001b[0m\u001b[1;33m\u001b[0m\u001b[0m\n",
      "\u001b[1;32m~\\Anaconda3\\lib\\site-packages\\pandas\\core\\reshape\\merge.py\u001b[0m in \u001b[0;36m_get_merge_keys\u001b[1;34m(self)\u001b[0m\n\u001b[0;32m    973\u001b[0m                     \u001b[1;32mif\u001b[0m \u001b[1;32mnot\u001b[0m \u001b[0mis_rkey\u001b[0m\u001b[1;33m(\u001b[0m\u001b[0mrk\u001b[0m\u001b[1;33m)\u001b[0m\u001b[1;33m:\u001b[0m\u001b[1;33m\u001b[0m\u001b[1;33m\u001b[0m\u001b[0m\n\u001b[0;32m    974\u001b[0m                         \u001b[1;32mif\u001b[0m \u001b[0mrk\u001b[0m \u001b[1;32mis\u001b[0m \u001b[1;32mnot\u001b[0m \u001b[1;32mNone\u001b[0m\u001b[1;33m:\u001b[0m\u001b[1;33m\u001b[0m\u001b[1;33m\u001b[0m\u001b[0m\n\u001b[1;32m--> 975\u001b[1;33m                             \u001b[0mright_keys\u001b[0m\u001b[1;33m.\u001b[0m\u001b[0mappend\u001b[0m\u001b[1;33m(\u001b[0m\u001b[0mright\u001b[0m\u001b[1;33m.\u001b[0m\u001b[0m_get_label_or_level_values\u001b[0m\u001b[1;33m(\u001b[0m\u001b[0mrk\u001b[0m\u001b[1;33m)\u001b[0m\u001b[1;33m)\u001b[0m\u001b[1;33m\u001b[0m\u001b[1;33m\u001b[0m\u001b[0m\n\u001b[0m\u001b[0;32m    976\u001b[0m                         \u001b[1;32melse\u001b[0m\u001b[1;33m:\u001b[0m\u001b[1;33m\u001b[0m\u001b[1;33m\u001b[0m\u001b[0m\n\u001b[0;32m    977\u001b[0m                             \u001b[1;31m# work-around for merge_asof(right_index=True)\u001b[0m\u001b[1;33m\u001b[0m\u001b[1;33m\u001b[0m\u001b[1;33m\u001b[0m\u001b[0m\n",
      "\u001b[1;32m~\\Anaconda3\\lib\\site-packages\\pandas\\core\\generic.py\u001b[0m in \u001b[0;36m_get_label_or_level_values\u001b[1;34m(self, key, axis)\u001b[0m\n\u001b[0;32m   1772\u001b[0m             \u001b[0mvalues\u001b[0m \u001b[1;33m=\u001b[0m \u001b[0mself\u001b[0m\u001b[1;33m.\u001b[0m\u001b[0maxes\u001b[0m\u001b[1;33m[\u001b[0m\u001b[0maxis\u001b[0m\u001b[1;33m]\u001b[0m\u001b[1;33m.\u001b[0m\u001b[0mget_level_values\u001b[0m\u001b[1;33m(\u001b[0m\u001b[0mkey\u001b[0m\u001b[1;33m)\u001b[0m\u001b[1;33m.\u001b[0m\u001b[0m_values\u001b[0m\u001b[1;33m\u001b[0m\u001b[1;33m\u001b[0m\u001b[0m\n\u001b[0;32m   1773\u001b[0m         \u001b[1;32melse\u001b[0m\u001b[1;33m:\u001b[0m\u001b[1;33m\u001b[0m\u001b[1;33m\u001b[0m\u001b[0m\n\u001b[1;32m-> 1774\u001b[1;33m             \u001b[1;32mraise\u001b[0m \u001b[0mKeyError\u001b[0m\u001b[1;33m(\u001b[0m\u001b[0mkey\u001b[0m\u001b[1;33m)\u001b[0m\u001b[1;33m\u001b[0m\u001b[1;33m\u001b[0m\u001b[0m\n\u001b[0m\u001b[0;32m   1775\u001b[0m \u001b[1;33m\u001b[0m\u001b[0m\n\u001b[0;32m   1776\u001b[0m         \u001b[1;31m# Check for duplicates\u001b[0m\u001b[1;33m\u001b[0m\u001b[1;33m\u001b[0m\u001b[1;33m\u001b[0m\u001b[0m\n",
      "\u001b[1;31mKeyError\u001b[0m: 'States'"
     ]
    }
   ],
   "source": [
    "merded_state_fire_defo = pd.merge(fire_year_sum_df, defo_year_sum_df, on=['States'])\n",
    "merded_state_fire_defo"
   ]
  },
  {
   "cell_type": "code",
   "execution_count": 35,
   "metadata": {},
   "outputs": [
    {
     "data": {
      "text/plain": [
       "0     424.70\n",
       "1     751.90\n",
       "2      32.30\n",
       "3     709.65\n",
       "4    4284.40\n",
       "5    4683.75\n",
       "6    1797.55\n",
       "7     232.15\n",
       "8     139.40\n",
       "Name: Square km, dtype: float64"
      ]
     },
     "execution_count": 35,
     "metadata": {},
     "output_type": "execute_result"
    }
   ],
   "source": [
    "x = merged['Square km']\n",
    "x"
   ]
  },
  {
   "cell_type": "code",
   "execution_count": 73,
   "metadata": {},
   "outputs": [],
   "source": [
    "#linear regression\n",
    "\n",
    "X = merged['Number of Fires'].values.reshape(-1, 1) \n",
    "Y = merged['Square km'].values.reshape(-1, 1)\n",
    "linear_regressor = LinearRegression() \n",
    "# perform linear regression\n",
    "linear_regressor.fit(X, Y)  \n",
    "# make predictions\n",
    "Y_pred = linear_regressor.predict(X)  \n",
    "\n",
    "\n",
    "# correlation matrices \n",
    "#correlation coefficient "
   ]
  },
  {
   "cell_type": "code",
   "execution_count": 74,
   "metadata": {},
   "outputs": [
    {
     "data": {
      "image/png": "[encoded data removed]",
      "text/plain": [
       "<Figure size 720x360 with 1 Axes>"
      ]
     },
     "metadata": {
      "needs_background": "light"
     },
     "output_type": "display_data"
    },
    {
     "data": {
      "text/plain": [
       "<Figure size 432x288 with 0 Axes>"
      ]
     },
     "metadata": {},
     "output_type": "display_data"
    }
   ],
   "source": [
    "fig, ax = plt.subplots(figsize=(10, 5))\n",
    "plt.scatter(X, Y)\n",
    "plt.plot(X, Y_pred, color='red')\n",
    "\n",
    "plt.title(\"Linear Regression | Fires vs Deforestation\")\n",
    "plt.xlabel(\"Number of Fires\")\n",
    "plt.ylabel(\"Deforestation by Square km\")\n",
    "\n",
    "plt.show()\n",
    "\n",
    "plt.savefig(\"../output_data/images/lr_fire_defo.png\")"
   ]
  },
  {
   "cell_type": "code",
   "execution_count": 40,
   "metadata": {
    "scrolled": true
   },
   "outputs": [
    {
     "name": "stdout",
     "output_type": "stream",
     "text": [
      "[[0.1359993]]\n"
     ]
    }
   ],
   "source": [
    "print(linear_regressor.coef_)"
   ]
  },
  {
   "cell_type": "code",
   "execution_count": 41,
   "metadata": {},
   "outputs": [
    {
     "data": {
      "text/html": [
       "<div>\n",
       "<style scoped>\n",
       "    .dataframe tbody tr th:only-of-type {\n",
       "        vertical-align: middle;\n",
       "    }\n",
       "\n",
       "    .dataframe tbody tr th {\n",
       "        vertical-align: top;\n",
       "    }\n",
       "\n",
       "    .dataframe thead th {\n",
       "        text-align: right;\n",
       "    }\n",
       "</style>\n",
       "<table border=\"1\" class=\"dataframe\">\n",
       "  <thead>\n",
       "    <tr style=\"text-align: right;\">\n",
       "      <th></th>\n",
       "      <th>Square km</th>\n",
       "      <th>Number of Fires</th>\n",
       "    </tr>\n",
       "  </thead>\n",
       "  <tbody>\n",
       "    <tr>\n",
       "      <td>Square km</td>\n",
       "      <td>1.00000</td>\n",
       "      <td>0.88839</td>\n",
       "    </tr>\n",
       "    <tr>\n",
       "      <td>Number of Fires</td>\n",
       "      <td>0.88839</td>\n",
       "      <td>1.00000</td>\n",
       "    </tr>\n",
       "  </tbody>\n",
       "</table>\n",
       "</div>"
      ],
      "text/plain": [
       "                 Square km  Number of Fires\n",
       "Square km          1.00000          0.88839\n",
       "Number of Fires    0.88839          1.00000"
      ]
     },
     "execution_count": 41,
     "metadata": {},
     "output_type": "execute_result"
    }
   ],
   "source": [
    "# Correlation Coefficient \n",
    "# and R-square \n",
    "\n",
    "merged.corr(method ='pearson')"
   ]
  },
  {
   "cell_type": "code",
   "execution_count": 75,
   "metadata": {},
   "outputs": [
    {
     "name": "stdout",
     "output_type": "stream",
     "text": [
      "                                 OLS Regression Results                                \n",
      "=======================================================================================\n",
      "Dep. Variable:                      y   R-squared (uncentered):                   0.873\n",
      "Model:                            OLS   Adj. R-squared (uncentered):              0.857\n",
      "Method:                 Least Squares   F-statistic:                              54.93\n",
      "Date:                Thu, 21 May 2020   Prob (F-statistic):                    7.54e-05\n",
      "Time:                        22:46:08   Log-Likelihood:                         -90.991\n",
      "No. Observations:                   9   AIC:                                      184.0\n",
      "Df Residuals:                       8   BIC:                                      184.2\n",
      "Df Model:                           1                                                  \n",
      "Covariance Type:            nonrobust                                                  \n",
      "==============================================================================\n",
      "                 coef    std err          t      P>|t|      [0.025      0.975]\n",
      "------------------------------------------------------------------------------\n",
      "x1             6.9848      0.942      7.411      0.000       4.812       9.158\n",
      "==============================================================================\n",
      "Omnibus:                        3.314   Durbin-Watson:                   1.364\n",
      "Prob(Omnibus):                  0.191   Jarque-Bera (JB):                1.474\n",
      "Skew:                           0.987   Prob(JB):                        0.479\n",
      "Kurtosis:                       2.810   Cond. No.                         1.00\n",
      "==============================================================================\n",
      "\n",
      "Warnings:\n",
      "[1] Standard Errors assume that the covariance matrix of the errors is correctly specified.\n"
     ]
    },
    {
     "name": "stderr",
     "output_type": "stream",
     "text": [
      "C:\\Users\\joaog\\Anaconda3\\lib\\site-packages\\scipy\\stats\\stats.py:1535: UserWarning: kurtosistest only valid for n>=20 ... continuing anyway, n=9\n",
      "  \"anyway, n=%i\" % int(n))\n"
     ]
    }
   ],
   "source": [
    "import statsmodels.api as sm\n",
    "from statsmodels.sandbox.regression.predstd import wls_prediction_std\n",
    "\n",
    "model=sm.OLS(X,Y)\n",
    "\n",
    "result=model.fit()\n",
    "\n",
    "print(result.summary())\n",
    "\n"
   ]
  },
  {
   "cell_type": "code",
   "execution_count": 71,
   "metadata": {
    "scrolled": false
   },
   "outputs": [
    {
     "data": {
      "text/plain": [
       "0     17383.0\n",
       "1     17259.0\n",
       "2     18226.0\n",
       "3     18165.0\n",
       "4     21650.0\n",
       "5     25396.0\n",
       "6     27772.0\n",
       "7     19014.0\n",
       "8     14286.0\n",
       "9     11651.0\n",
       "10    12911.0\n",
       "11     7464.0\n",
       "12     7000.0\n",
       "13     6418.0\n",
       "14     4571.0\n",
       "15     5891.0\n",
       "16     5012.0\n",
       "17     6207.0\n",
       "18     7893.0\n",
       "19     6947.0\n",
       "Name: square km, dtype: float64"
      ]
     },
     "execution_count": 71,
     "metadata": {},
     "output_type": "execute_result"
    }
   ],
   "source": [
    "x1 = merded_fire_defo['square km']\n",
    "x1"
   ]
  },
  {
   "cell_type": "code",
   "execution_count": 76,
   "metadata": {},
   "outputs": [],
   "source": [
    "#linear regression\n",
    "\n",
    "X1 = merded_fire_defo['Number of Fires'].values.reshape(-1, 1) \n",
    "Y1 = merded_fire_defo['square km'].values.reshape(-1, 1)\n",
    "linear_regressor1 = LinearRegression() \n",
    "# perform linear regression\n",
    "linear_regressor1.fit(X1, Y1)  \n",
    "# make predictions\n",
    "Y1_pred = linear_regressor1.predict(X1)  \n",
    "\n",
    "\n",
    "# correlation matrices \n",
    "#correlation coefficient "
   ]
  },
  {
   "cell_type": "code",
   "execution_count": 77,
   "metadata": {},
   "outputs": [
    {
     "name": "stdout",
     "output_type": "stream",
     "text": [
      "[[0.02949373]]\n"
     ]
    }
   ],
   "source": [
    "print(linear_regressor1.coef_)"
   ]
  },
  {
   "cell_type": "code",
   "execution_count": 80,
   "metadata": {},
   "outputs": [
    {
     "data": {
      "text/html": [
       "<div>\n",
       "<style scoped>\n",
       "    .dataframe tbody tr th:only-of-type {\n",
       "        vertical-align: middle;\n",
       "    }\n",
       "\n",
       "    .dataframe tbody tr th {\n",
       "        vertical-align: top;\n",
       "    }\n",
       "\n",
       "    .dataframe thead th {\n",
       "        text-align: right;\n",
       "    }\n",
       "</style>\n",
       "<table border=\"1\" class=\"dataframe\">\n",
       "  <thead>\n",
       "    <tr style=\"text-align: right;\">\n",
       "      <th></th>\n",
       "      <th>year</th>\n",
       "      <th>Number of Fires</th>\n",
       "      <th>square km</th>\n",
       "    </tr>\n",
       "  </thead>\n",
       "  <tbody>\n",
       "    <tr>\n",
       "      <td>year</td>\n",
       "      <td>1.000000</td>\n",
       "      <td>0.216890</td>\n",
       "      <td>-0.803368</td>\n",
       "    </tr>\n",
       "    <tr>\n",
       "      <td>Number of Fires</td>\n",
       "      <td>0.216890</td>\n",
       "      <td>1.000000</td>\n",
       "      <td>0.207138</td>\n",
       "    </tr>\n",
       "    <tr>\n",
       "      <td>square km</td>\n",
       "      <td>-0.803368</td>\n",
       "      <td>0.207138</td>\n",
       "      <td>1.000000</td>\n",
       "    </tr>\n",
       "  </tbody>\n",
       "</table>\n",
       "</div>"
      ],
      "text/plain": [
       "                     year  Number of Fires  square km\n",
       "year             1.000000         0.216890  -0.803368\n",
       "Number of Fires  0.216890         1.000000   0.207138\n",
       "square km       -0.803368         0.207138   1.000000"
      ]
     },
     "execution_count": 80,
     "metadata": {},
     "output_type": "execute_result"
    }
   ],
   "source": [
    "# Correlation Coefficient \n",
    "# and R-square \n",
    "\n",
    "merded_fire_defo.corr(method ='pearson')"
   ]
  },
  {
   "cell_type": "code",
   "execution_count": 78,
   "metadata": {},
   "outputs": [
    {
     "name": "stdout",
     "output_type": "stream",
     "text": [
      "                                 OLS Regression Results                                \n",
      "=======================================================================================\n",
      "Dep. Variable:                      y   R-squared (uncentered):                   0.873\n",
      "Model:                            OLS   Adj. R-squared (uncentered):              0.857\n",
      "Method:                 Least Squares   F-statistic:                              54.93\n",
      "Date:                Thu, 21 May 2020   Prob (F-statistic):                    7.54e-05\n",
      "Time:                        22:46:27   Log-Likelihood:                         -90.991\n",
      "No. Observations:                   9   AIC:                                      184.0\n",
      "Df Residuals:                       8   BIC:                                      184.2\n",
      "Df Model:                           1                                                  \n",
      "Covariance Type:            nonrobust                                                  \n",
      "==============================================================================\n",
      "                 coef    std err          t      P>|t|      [0.025      0.975]\n",
      "------------------------------------------------------------------------------\n",
      "x1             6.9848      0.942      7.411      0.000       4.812       9.158\n",
      "==============================================================================\n",
      "Omnibus:                        3.314   Durbin-Watson:                   1.364\n",
      "Prob(Omnibus):                  0.191   Jarque-Bera (JB):                1.474\n",
      "Skew:                           0.987   Prob(JB):                        0.479\n",
      "Kurtosis:                       2.810   Cond. No.                         1.00\n",
      "==============================================================================\n",
      "\n",
      "Warnings:\n",
      "[1] Standard Errors assume that the covariance matrix of the errors is correctly specified.\n"
     ]
    },
    {
     "name": "stderr",
     "output_type": "stream",
     "text": [
      "C:\\Users\\joaog\\Anaconda3\\lib\\site-packages\\scipy\\stats\\stats.py:1535: UserWarning: kurtosistest only valid for n>=20 ... continuing anyway, n=9\n",
      "  \"anyway, n=%i\" % int(n))\n"
     ]
    }
   ],
   "source": [
    "model1=sm.OLS(X,Y)\n",
    "\n",
    "result1=model1.fit()\n",
    "\n",
    "print(result1.summary())\n"
   ]
  },
  {
   "cell_type": "code",
   "execution_count": 79,
   "metadata": {},
   "outputs": [
    {
     "data": {
      "image/png": "[encoded data removed]",
      "text/plain": [
       "<Figure size 720x360 with 1 Axes>"
      ]
     },
     "metadata": {
      "needs_background": "light"
     },
     "output_type": "display_data"
    },
    {
     "data": {
      "text/plain": [
       "<Figure size 432x288 with 0 Axes>"
      ]
     },
     "metadata": {},
     "output_type": "display_data"
    }
   ],
   "source": [
    "fig, ax = plt.subplots(figsize=(10, 5))\n",
    "plt.scatter(X1, Y1)\n",
    "plt.plot(X1, Y1_pred, color='red')\n",
    "\n",
    "plt.title(\"Linear Regression | Fires vs Deforestation\")\n",
    "plt.xlabel(\"Number of Fires\")\n",
    "plt.ylabel(\"Deforestation by Square km\")\n",
    "\n",
    "plt.show()\n",
    "\n",
    "plt.savefig(\"output_data/LinearRegression1.png\")"
   ]
  },
  {
   "cell_type": "code",
   "execution_count": null,
   "metadata": {},
   "outputs": [],
   "source": [
    "#multi colinearity, the two numeric variables you are looking at are too similar, regression splits in half"
   ]
  }
 ],
 "metadata": {
  "kernelspec": {
   "display_name": "Python 3",
   "language": "python",
   "name": "python3"
  },
  "language_info": {
   "codemirror_mode": {
    "name": "ipython",
    "version": 3
   },
   "file_extension": ".py",
   "mimetype": "text/x-python",
   "name": "python",
   "nbconvert_exporter": "python",
   "pygments_lexer": "ipython3",
   "version": "3.7.4"
  }
 },
 "nbformat": 4,
 "nbformat_minor": 2
}
